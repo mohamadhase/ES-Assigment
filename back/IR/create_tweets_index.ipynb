{
 "cells": [
  {
   "cell_type": "code",
   "execution_count": 61,
   "metadata": {},
   "outputs": [],
   "source": [
    "from elasticsearch import Elasticsearch\n",
    "import json\n",
    "import datetime\n"
   ]
  },
  {
   "cell_type": "code",
   "execution_count": 62,
   "metadata": {},
   "outputs": [],
   "source": [
    "es = Elasticsearch(hosts=\"http://localhost:9200\")\n",
    "index_name = \"tweets\""
   ]
  },
  {
   "cell_type": "code",
   "execution_count": 63,
   "metadata": {},
   "outputs": [
    {
     "name": "stderr",
     "output_type": "stream",
     "text": [
      "C:\\Users\\moham\\AppData\\Local\\Temp\\ipykernel_11856\\35907509.py:28: DeprecationWarning: Passing transport options in the API method is deprecated. Use 'Elasticsearch.options()' instead.\n",
      "  es.indices.create(index=index_name, ignore=400,body=settings)\n",
      "C:\\Users\\moham\\AppData\\Local\\Temp\\ipykernel_11856\\35907509.py:28: DeprecationWarning: The 'body' parameter is deprecated and will be removed in a future version. Instead use individual parameters.\n",
      "  es.indices.create(index=index_name, ignore=400,body=settings)\n"
     ]
    },
    {
     "data": {
      "text/plain": [
       "ObjectApiResponse({'acknowledged': True, 'shards_acknowledged': True, 'index': 'tweets'})"
      ]
     },
     "execution_count": 63,
     "metadata": {},
     "output_type": "execute_result"
    }
   ],
   "source": [
    "if es.indices.exists(index=index_name):\n",
    "    es.indices.delete(index=index_name)\n",
    "    \n",
    "settings = {\n",
    "    \"mappings\": {\n",
    "        \"properties\": {\n",
    "            \"text\": {\n",
    "                \"type\": \"text\",\n",
    "            },\n",
    "\n",
    "        \"id\" : {\n",
    "            \"type\":\"keyword\"\n",
    "        },\n",
    "        \"coordinates\" : {\n",
    "            \"type\":\"geo_point\"\n",
    "        },\n",
    "        \"created_at\" : {\n",
    "            \"type\":\"date\",\n",
    "\n",
    "        },\n",
    "        \"coordinates\" : {\n",
    "            \"type\":\"geo_point\"\n",
    "        }\n",
    "\n",
    "    }\n",
    "}\n",
    "}\n",
    "es.indices.create(index=index_name, ignore=400,body=settings)"
   ]
  },
  {
   "cell_type": "code",
   "execution_count": 60,
   "metadata": {},
   "outputs": [],
   "source": [
    "# the file tweets.json is too big to read into memory at once\n",
    "# so we read it line by line and insert each line into elasticsearch\n",
    "# with the bulk insert function\n",
    "def read_file(file_name):\n",
    "    with open(file_name,encoding=\"utf8\") as f:\n",
    "        while(line:=f.readline()):\n",
    "            line = json.loads(line)\n",
    "            line['created_at'] = datetime.datetime.strptime(line['created_at'], '%a %b %d %H:%M:%S %z %Y').isoformat()\n",
    "            yield line\n",
    "resp  = helpers.bulk(es,read_file(\"tweets.json\"),index = index_name,chunk_size=1000)\n"
   ]
  },
  {
   "cell_type": "code",
   "execution_count": null,
   "metadata": {},
   "outputs": [],
   "source": []
  }
 ],
 "metadata": {
  "kernelspec": {
   "display_name": "Python 3.8.8 64-bit",
   "language": "python",
   "name": "python3"
  },
  "language_info": {
   "codemirror_mode": {
    "name": "ipython",
    "version": 3
   },
   "file_extension": ".py",
   "mimetype": "text/x-python",
   "name": "python",
   "nbconvert_exporter": "python",
   "pygments_lexer": "ipython3",
   "version": "3.8.8"
  },
  "vscode": {
   "interpreter": {
    "hash": "e1e50afc35c5bf48b6480db009e29dffe9b3dc8b7d11ef5d69051a76ab35e225"
   }
  }
 },
 "nbformat": 4,
 "nbformat_minor": 2
}
