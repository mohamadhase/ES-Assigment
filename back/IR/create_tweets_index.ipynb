{
 "cells": [
  {
   "cell_type": "code",
   "execution_count": 21,
   "metadata": {},
   "outputs": [],
   "source": [
    "from elasticsearch import Elasticsearch"
   ]
  },
  {
   "cell_type": "code",
   "execution_count": 22,
   "metadata": {},
   "outputs": [],
   "source": [
    "es = Elasticsearch(hosts=\"http://localhost:9200\")\n",
    "index_name = \"tweets\""
   ]
  },
  {
   "cell_type": "code",
   "execution_count": 23,
   "metadata": {},
   "outputs": [
    {
     "name": "stderr",
     "output_type": "stream",
     "text": [
      "C:\\Users\\moham\\AppData\\Local\\Temp\\ipykernel_16596\\35907509.py:28: DeprecationWarning: Passing transport options in the API method is deprecated. Use 'Elasticsearch.options()' instead.\n",
      "  es.indices.create(index=index_name, ignore=400,body=settings)\n",
      "C:\\Users\\moham\\AppData\\Local\\Temp\\ipykernel_16596\\35907509.py:28: DeprecationWarning: The 'body' parameter is deprecated and will be removed in a future version. Instead use individual parameters.\n",
      "  es.indices.create(index=index_name, ignore=400,body=settings)\n"
     ]
    },
    {
     "data": {
      "text/plain": [
       "ObjectApiResponse({'acknowledged': True, 'shards_acknowledged': True, 'index': 'tweets'})"
      ]
     },
     "execution_count": 23,
     "metadata": {},
     "output_type": "execute_result"
    }
   ],
   "source": [
    "if es.indices.exists(index=index_name):\n",
    "    es.indices.delete(index=index_name)\n",
    "    \n",
    "settings = {\n",
    "    \"mappings\": {\n",
    "        \"properties\": {\n",
    "            \"text\": {\n",
    "                \"type\": \"text\",\n",
    "            },\n",
    "\n",
    "        \"id\" : {\n",
    "            \"type\":\"keyword\"\n",
    "        },\n",
    "        \"coordinates\" : {\n",
    "            \"type\":\"geo_point\"\n",
    "        },\n",
    "        \"created_at\" : {\n",
    "            \"type\":\"date\",\n",
    "\n",
    "        },\n",
    "        \"coordinates\" : {\n",
    "            \"type\":\"geo_point\"\n",
    "        }\n",
    "\n",
    "    }\n",
    "}\n",
    "}\n",
    "es.indices.create(index=index_name, ignore=400,body=settings)"
   ]
  },
  {
   "cell_type": "code",
   "execution_count": 36,
   "metadata": {},
   "outputs": [],
   "source": [
    "from elasticsearch import helpers\n",
    "import json\n",
    "import datetime\n",
    "data = []\n",
    "with open(\"back/IR/tweets.json\",encoding=\"utf8\") as f:\n",
    "    while(line:=f.readline()):\n",
    "        data.append(line)\n",
    "data = [json.loads(row) for row in data]\n",
    "# convert the created_at field to iso format\n",
    "for row in data:\n",
    "    date = datetime.datetime.strptime(row[\"created_at\"], '%a %b %d %H:%M:%S %z %Y')\n",
    "    row[\"created_at\"] = date.isoformat()\n"
   ]
  },
  {
   "cell_type": "code",
   "execution_count": null,
   "metadata": {},
   "outputs": [],
   "source": [
    "resp = helpers.bulk(es,data,index = index_name)"
   ]
  },
  {
   "cell_type": "code",
   "execution_count": null,
   "metadata": {},
   "outputs": [],
   "source": []
  }
 ],
 "metadata": {
  "kernelspec": {
   "display_name": "Python 3.8.8 64-bit",
   "language": "python",
   "name": "python3"
  },
  "language_info": {
   "codemirror_mode": {
    "name": "ipython",
    "version": 3
   },
   "file_extension": ".py",
   "mimetype": "text/x-python",
   "name": "python",
   "nbconvert_exporter": "python",
   "pygments_lexer": "ipython3",
   "version": "3.8.8"
  },
  "vscode": {
   "interpreter": {
    "hash": "e1e50afc35c5bf48b6480db009e29dffe9b3dc8b7d11ef5d69051a76ab35e225"
   }
  }
 },
 "nbformat": 4,
 "nbformat_minor": 2
}
