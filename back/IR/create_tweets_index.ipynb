{
 "cells": [
  {
   "cell_type": "code",
   "execution_count": 12,
   "metadata": {},
   "outputs": [],
   "source": [
    "from elasticsearch import Elasticsearch\n",
    "import json\n",
    "import datetime\n"
   ]
  },
  {
   "cell_type": "code",
   "execution_count": 13,
   "metadata": {},
   "outputs": [],
   "source": [
    "es = Elasticsearch(hosts=\"http://localhost:9200\")\n",
    "index_name = \"tweets\"\n"
   ]
  },
  {
   "cell_type": "code",
   "execution_count": 14,
   "metadata": {},
   "outputs": [
    {
     "name": "stderr",
     "output_type": "stream",
     "text": [
      "C:\\Users\\nasser\\AppData\\Local\\Temp\\ipykernel_25812\\2223880218.py:31: DeprecationWarning: Passing transport options in the API method is deprecated. Use 'Elasticsearch.options()' instead.\n",
      "  es.indices.create(index=index_name, ignore=400,body=settings)\n",
      "C:\\Users\\nasser\\AppData\\Local\\Temp\\ipykernel_25812\\2223880218.py:31: DeprecationWarning: The 'body' parameter is deprecated and will be removed in a future version. Instead use individual parameters.\n",
      "  es.indices.create(index=index_name, ignore=400,body=settings)\n"
     ]
    },
    {
     "data": {
      "text/plain": [
       "ObjectApiResponse({'acknowledged': True, 'shards_acknowledged': True, 'index': 'tweets'})"
      ]
     },
     "execution_count": 14,
     "metadata": {},
     "output_type": "execute_result"
    }
   ],
   "source": [
    "if es.indices.exists(index=index_name):\n",
    "    es.indices.delete(index=index_name)\n",
    "    # add fielddata=true to the mapping\n",
    "    \n",
    "settings = {\n",
    "    \"mappings\": {\n",
    "        \"properties\": {\n",
    "            \"text\": {\n",
    "                \"type\": \"text\",\n",
    "                \"fielddata\": True\n",
    "            },\n",
    "\n",
    "        \"id\" : {\n",
    "            \"type\":\"keyword\"\n",
    "        },\n",
    "        \"coordinates\" : {\n",
    "            \"type\":\"geo_point\"\n",
    "        },\n",
    "        \"created_at\" : {\n",
    "            \"type\":\"date\",\n",
    "\n",
    "        },\n",
    "        \"coordinates\" : {\n",
    "            \"type\":\"geo_point\"\n",
    "        }\n",
    "\n",
    "    }\n",
    "    \n",
    "}\n",
    "}\n",
    "es.indices.create(index=index_name, ignore=400,body=settings)"
   ]
  },
  {
   "cell_type": "code",
   "execution_count": 15,
   "metadata": {},
   "outputs": [],
   "source": [
    "# the file tweets.json is too big to read into memory at once\n",
    "# so we read it line by line and insert each line into elasticsearch \n",
    "# with the bulk insert function\n",
    "from elasticsearch import helpers\n",
    "def to_dict(text):\n",
    "    obj = json.loads(text)\n",
    "    obj['created_at'] = datetime.datetime.strptime(obj['created_at'], '%a %b %d %H:%M:%S +0000 %Y')\n",
    "    return obj\n",
    "\n",
    "file_gen = (to_dict(line) for line in open('tweets.json',encoding=\"utf8\"))\n",
    "\n",
    "resp  = helpers.bulk(es,file_gen,index=index_name)\n"
   ]
  },
  {
   "cell_type": "code",
   "execution_count": null,
   "metadata": {},
   "outputs": [],
   "source": [
    "#create generator to read the file line by line and update the created_at field\n",
    "#to be in the correct format for elasticsearch\n"
   ]
  },
  {
   "cell_type": "code",
   "execution_count": null,
   "metadata": {},
   "outputs": [],
   "source": []
  },
  {
   "cell_type": "code",
   "execution_count": null,
   "metadata": {},
   "outputs": [],
   "source": []
  }
 ],
 "metadata": {
  "kernelspec": {
   "display_name": "Python 3",
   "language": "python",
   "name": "python3"
  },
  "language_info": {
   "codemirror_mode": {
    "name": "ipython",
    "version": 3
   },
   "file_extension": ".py",
   "mimetype": "text/x-python",
   "name": "python",
   "nbconvert_exporter": "python",
   "pygments_lexer": "ipython3",
   "version": "3.9.0 (tags/v3.9.0:9cf6752, Oct  5 2020, 15:34:40) [MSC v.1927 64 bit (AMD64)]"
  },
  "vscode": {
   "interpreter": {
    "hash": "27f5e20c8d8745f6e27ba54df7618a718b9dba0be89da096f3436998b1c01c09"
   }
  }
 },
 "nbformat": 4,
 "nbformat_minor": 2
}
